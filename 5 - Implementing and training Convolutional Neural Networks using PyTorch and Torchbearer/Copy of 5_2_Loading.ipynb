{
 "cells": [
  {
   "cell_type": "markdown",
   "metadata": {
    "deletable": false,
    "editable": false,
    "nbgrader": {
     "checksum": "2e433cbdd5b1bc32ffca46551a708e45",
     "grade": false,
     "grade_id": "cell-c290b2da5fe2edf3",
     "locked": true,
     "schema_version": 1,
     "solution": false
    },
    "id": "Xr6G7aIYpqwW"
   },
   "source": [
    "# Part 2: Loading a saved model"
   ]
  },
  {
   "cell_type": "markdown",
   "metadata": {
    "deletable": false,
    "editable": false,
    "nbgrader": {
     "checksum": "f548e96caa143d15f7b0ec97bd4e149f",
     "grade": false,
     "grade_id": "cell-ba8019f876600bdf",
     "locked": true,
     "schema_version": 1,
     "solution": false
    },
    "id": "2lgYv6IBpqwX"
   },
   "source": [
    "__Before starting, we recommend you enable GPU acceleration if you're running on Colab. You'll also need to upload the weights you downloaded previously using the following block and using the upload button to upload your bettercnn.weights file:__"
   ]
  },
  {
   "cell_type": "code",
   "execution_count": 2,
   "metadata": {
    "deletable": false,
    "editable": false,
    "nbgrader": {
     "checksum": "c0d2caf75989226e03a8ded7438278a5",
     "grade": false,
     "grade_id": "cell-7baa302f182176c7",
     "locked": true,
     "schema_version": 1,
     "solution": false
    },
    "id": "6pggki8ipqwY",
    "colab": {
     "base_uri": "https://localhost:8080/",
     "height": 1000
    },
    "executionInfo": {
     "status": "ok",
     "timestamp": 1692266037366,
     "user_tz": -120,
     "elapsed": 21794,
     "user": {
      "displayName": "Dawid Lipiński",
      "userId": "12029375043285498736"
     }
    },
    "outputId": "a9a3e665-a4b5-4d73-ce24-6dfc1e298f1a"
   },
   "outputs": [
    {
     "output_type": "stream",
     "name": "stdout",
     "text": [
      "Collecting torchbearer\n",
      "  Downloading torchbearer-0.5.3-py3-none-any.whl (138 kB)\n",
      "\u001B[2K     \u001B[90m━━━━━━━━━━━━━━━━━━━━━━━━━━━━━━━━━━━━━━━\u001B[0m \u001B[32m138.1/138.1 kB\u001B[0m \u001B[31m1.9 MB/s\u001B[0m eta \u001B[36m0:00:00\u001B[0m\n",
      "\u001B[?25hRequirement already satisfied: torch>=1.0.0 in /usr/local/lib/python3.10/dist-packages (from torchbearer) (2.0.1+cu118)\n",
      "Requirement already satisfied: numpy in /usr/local/lib/python3.10/dist-packages (from torchbearer) (1.23.5)\n",
      "Requirement already satisfied: tqdm in /usr/local/lib/python3.10/dist-packages (from torchbearer) (4.66.1)\n",
      "Requirement already satisfied: filelock in /usr/local/lib/python3.10/dist-packages (from torch>=1.0.0->torchbearer) (3.12.2)\n",
      "Requirement already satisfied: typing-extensions in /usr/local/lib/python3.10/dist-packages (from torch>=1.0.0->torchbearer) (4.7.1)\n",
      "Requirement already satisfied: sympy in /usr/local/lib/python3.10/dist-packages (from torch>=1.0.0->torchbearer) (1.12)\n",
      "Requirement already satisfied: networkx in /usr/local/lib/python3.10/dist-packages (from torch>=1.0.0->torchbearer) (3.1)\n",
      "Requirement already satisfied: jinja2 in /usr/local/lib/python3.10/dist-packages (from torch>=1.0.0->torchbearer) (3.1.2)\n",
      "Requirement already satisfied: triton==2.0.0 in /usr/local/lib/python3.10/dist-packages (from torch>=1.0.0->torchbearer) (2.0.0)\n",
      "Requirement already satisfied: cmake in /usr/local/lib/python3.10/dist-packages (from triton==2.0.0->torch>=1.0.0->torchbearer) (3.27.2)\n",
      "Requirement already satisfied: lit in /usr/local/lib/python3.10/dist-packages (from triton==2.0.0->torch>=1.0.0->torchbearer) (16.0.6)\n",
      "Requirement already satisfied: MarkupSafe>=2.0 in /usr/local/lib/python3.10/dist-packages (from jinja2->torch>=1.0.0->torchbearer) (2.1.3)\n",
      "Requirement already satisfied: mpmath>=0.19 in /usr/local/lib/python3.10/dist-packages (from sympy->torch>=1.0.0->torchbearer) (1.3.0)\n",
      "Installing collected packages: torchbearer\n",
      "Successfully installed torchbearer-0.5.3\n"
     ]
    },
    {
     "output_type": "display_data",
     "data": {
      "text/plain": [
       "<IPython.core.display.HTML object>"
      ],
      "text/html": [
       "\n",
       "     <input type=\"file\" id=\"files-98f9e007-bb9f-4093-af97-6c8ff59af287\" name=\"files[]\" multiple disabled\n",
       "        style=\"border:none\" />\n",
       "     <output id=\"result-98f9e007-bb9f-4093-af97-6c8ff59af287\">\n",
       "      Upload widget is only available when the cell has been executed in the\n",
       "      current browser session. Please rerun this cell to enable.\n",
       "      </output>\n",
       "      <script>// Copyright 2017 Google LLC\n",
       "//\n",
       "// Licensed under the Apache License, Version 2.0 (the \"License\");\n",
       "// you may not use this file except in compliance with the License.\n",
       "// You may obtain a copy of the License at\n",
       "//\n",
       "//      http://www.apache.org/licenses/LICENSE-2.0\n",
       "//\n",
       "// Unless required by applicable law or agreed to in writing, software\n",
       "// distributed under the License is distributed on an \"AS IS\" BASIS,\n",
       "// WITHOUT WARRANTIES OR CONDITIONS OF ANY KIND, either express or implied.\n",
       "// See the License for the specific language governing permissions and\n",
       "// limitations under the License.\n",
       "\n",
       "/**\n",
       " * @fileoverview Helpers for google.colab Python module.\n",
       " */\n",
       "(function(scope) {\n",
       "function span(text, styleAttributes = {}) {\n",
       "  const element = document.createElement('span');\n",
       "  element.textContent = text;\n",
       "  for (const key of Object.keys(styleAttributes)) {\n",
       "    element.style[key] = styleAttributes[key];\n",
       "  }\n",
       "  return element;\n",
       "}\n",
       "\n",
       "// Max number of bytes which will be uploaded at a time.\n",
       "const MAX_PAYLOAD_SIZE = 100 * 1024;\n",
       "\n",
       "function _uploadFiles(inputId, outputId) {\n",
       "  const steps = uploadFilesStep(inputId, outputId);\n",
       "  const outputElement = document.getElementById(outputId);\n",
       "  // Cache steps on the outputElement to make it available for the next call\n",
       "  // to uploadFilesContinue from Python.\n",
       "  outputElement.steps = steps;\n",
       "\n",
       "  return _uploadFilesContinue(outputId);\n",
       "}\n",
       "\n",
       "// This is roughly an async generator (not supported in the browser yet),\n",
       "// where there are multiple asynchronous steps and the Python side is going\n",
       "// to poll for completion of each step.\n",
       "// This uses a Promise to block the python side on completion of each step,\n",
       "// then passes the result of the previous step as the input to the next step.\n",
       "function _uploadFilesContinue(outputId) {\n",
       "  const outputElement = document.getElementById(outputId);\n",
       "  const steps = outputElement.steps;\n",
       "\n",
       "  const next = steps.next(outputElement.lastPromiseValue);\n",
       "  return Promise.resolve(next.value.promise).then((value) => {\n",
       "    // Cache the last promise value to make it available to the next\n",
       "    // step of the generator.\n",
       "    outputElement.lastPromiseValue = value;\n",
       "    return next.value.response;\n",
       "  });\n",
       "}\n",
       "\n",
       "/**\n",
       " * Generator function which is called between each async step of the upload\n",
       " * process.\n",
       " * @param {string} inputId Element ID of the input file picker element.\n",
       " * @param {string} outputId Element ID of the output display.\n",
       " * @return {!Iterable<!Object>} Iterable of next steps.\n",
       " */\n",
       "function* uploadFilesStep(inputId, outputId) {\n",
       "  const inputElement = document.getElementById(inputId);\n",
       "  inputElement.disabled = false;\n",
       "\n",
       "  const outputElement = document.getElementById(outputId);\n",
       "  outputElement.innerHTML = '';\n",
       "\n",
       "  const pickedPromise = new Promise((resolve) => {\n",
       "    inputElement.addEventListener('change', (e) => {\n",
       "      resolve(e.target.files);\n",
       "    });\n",
       "  });\n",
       "\n",
       "  const cancel = document.createElement('button');\n",
       "  inputElement.parentElement.appendChild(cancel);\n",
       "  cancel.textContent = 'Cancel upload';\n",
       "  const cancelPromise = new Promise((resolve) => {\n",
       "    cancel.onclick = () => {\n",
       "      resolve(null);\n",
       "    };\n",
       "  });\n",
       "\n",
       "  // Wait for the user to pick the files.\n",
       "  const files = yield {\n",
       "    promise: Promise.race([pickedPromise, cancelPromise]),\n",
       "    response: {\n",
       "      action: 'starting',\n",
       "    }\n",
       "  };\n",
       "\n",
       "  cancel.remove();\n",
       "\n",
       "  // Disable the input element since further picks are not allowed.\n",
       "  inputElement.disabled = true;\n",
       "\n",
       "  if (!files) {\n",
       "    return {\n",
       "      response: {\n",
       "        action: 'complete',\n",
       "      }\n",
       "    };\n",
       "  }\n",
       "\n",
       "  for (const file of files) {\n",
       "    const li = document.createElement('li');\n",
       "    li.append(span(file.name, {fontWeight: 'bold'}));\n",
       "    li.append(span(\n",
       "        `(${file.type || 'n/a'}) - ${file.size} bytes, ` +\n",
       "        `last modified: ${\n",
       "            file.lastModifiedDate ? file.lastModifiedDate.toLocaleDateString() :\n",
       "                                    'n/a'} - `));\n",
       "    const percent = span('0% done');\n",
       "    li.appendChild(percent);\n",
       "\n",
       "    outputElement.appendChild(li);\n",
       "\n",
       "    const fileDataPromise = new Promise((resolve) => {\n",
       "      const reader = new FileReader();\n",
       "      reader.onload = (e) => {\n",
       "        resolve(e.target.result);\n",
       "      };\n",
       "      reader.readAsArrayBuffer(file);\n",
       "    });\n",
       "    // Wait for the data to be ready.\n",
       "    let fileData = yield {\n",
       "      promise: fileDataPromise,\n",
       "      response: {\n",
       "        action: 'continue',\n",
       "      }\n",
       "    };\n",
       "\n",
       "    // Use a chunked sending to avoid message size limits. See b/62115660.\n",
       "    let position = 0;\n",
       "    do {\n",
       "      const length = Math.min(fileData.byteLength - position, MAX_PAYLOAD_SIZE);\n",
       "      const chunk = new Uint8Array(fileData, position, length);\n",
       "      position += length;\n",
       "\n",
       "      const base64 = btoa(String.fromCharCode.apply(null, chunk));\n",
       "      yield {\n",
       "        response: {\n",
       "          action: 'append',\n",
       "          file: file.name,\n",
       "          data: base64,\n",
       "        },\n",
       "      };\n",
       "\n",
       "      let percentDone = fileData.byteLength === 0 ?\n",
       "          100 :\n",
       "          Math.round((position / fileData.byteLength) * 100);\n",
       "      percent.textContent = `${percentDone}% done`;\n",
       "\n",
       "    } while (position < fileData.byteLength);\n",
       "  }\n",
       "\n",
       "  // All done.\n",
       "  yield {\n",
       "    response: {\n",
       "      action: 'complete',\n",
       "    }\n",
       "  };\n",
       "}\n",
       "\n",
       "scope.google = scope.google || {};\n",
       "scope.google.colab = scope.google.colab || {};\n",
       "scope.google.colab._files = {\n",
       "  _uploadFiles,\n",
       "  _uploadFilesContinue,\n",
       "};\n",
       "})(self);\n",
       "</script> "
      ]
     },
     "metadata": {}
    },
    {
     "output_type": "stream",
     "name": "stdout",
     "text": [
      "Saving bettercnn.weights to bettercnn.weights\n",
      "--2023-08-17 09:53:55--  http://comp6248.ecs.soton.ac.uk/labs/lab5/0.PNG\n",
      "Resolving comp6248.ecs.soton.ac.uk (comp6248.ecs.soton.ac.uk)... 185.199.108.153, 185.199.109.153, 185.199.110.153, ...\n",
      "Connecting to comp6248.ecs.soton.ac.uk (comp6248.ecs.soton.ac.uk)|185.199.108.153|:80... connected.\n",
      "HTTP request sent, awaiting response... 200 OK\n",
      "Length: 2514 (2.5K) [image/png]\n",
      "Saving to: ‘0.PNG’\n",
      "\n",
      "0.PNG               100%[===================>]   2.46K  --.-KB/s    in 0s      \n",
      "\n",
      "2023-08-17 09:53:55 (263 MB/s) - ‘0.PNG’ saved [2514/2514]\n",
      "\n",
      "--2023-08-17 09:53:55--  http://comp6248.ecs.soton.ac.uk/labs/lab5/1.PNG\n",
      "Resolving comp6248.ecs.soton.ac.uk (comp6248.ecs.soton.ac.uk)... 185.199.108.153, 185.199.109.153, 185.199.110.153, ...\n",
      "Connecting to comp6248.ecs.soton.ac.uk (comp6248.ecs.soton.ac.uk)|185.199.108.153|:80... connected.\n",
      "HTTP request sent, awaiting response... 200 OK\n",
      "Length: 2448 (2.4K) [image/png]\n",
      "Saving to: ‘1.PNG’\n",
      "\n",
      "1.PNG               100%[===================>]   2.39K  --.-KB/s    in 0s      \n",
      "\n",
      "2023-08-17 09:53:55 (404 MB/s) - ‘1.PNG’ saved [2448/2448]\n",
      "\n",
      "--2023-08-17 09:53:55--  http://comp6248.ecs.soton.ac.uk/labs/lab5/2.PNG\n",
      "Resolving comp6248.ecs.soton.ac.uk (comp6248.ecs.soton.ac.uk)... 185.199.108.153, 185.199.109.153, 185.199.110.153, ...\n",
      "Connecting to comp6248.ecs.soton.ac.uk (comp6248.ecs.soton.ac.uk)|185.199.108.153|:80... connected.\n",
      "HTTP request sent, awaiting response... 200 OK\n",
      "Length: 156 [image/png]\n",
      "Saving to: ‘2.PNG’\n",
      "\n",
      "2.PNG               100%[===================>]     156  --.-KB/s    in 0s      \n",
      "\n",
      "2023-08-17 09:53:55 (30.4 MB/s) - ‘2.PNG’ saved [156/156]\n",
      "\n",
      "--2023-08-17 09:53:55--  http://comp6248.ecs.soton.ac.uk/labs/lab5/3.PNG\n",
      "Resolving comp6248.ecs.soton.ac.uk (comp6248.ecs.soton.ac.uk)... 185.199.108.153, 185.199.109.153, 185.199.110.153, ...\n",
      "Connecting to comp6248.ecs.soton.ac.uk (comp6248.ecs.soton.ac.uk)|185.199.108.153|:80... connected.\n",
      "HTTP request sent, awaiting response... 200 OK\n",
      "Length: 229 [image/png]\n",
      "Saving to: ‘3.PNG’\n",
      "\n",
      "3.PNG               100%[===================>]     229  --.-KB/s    in 0s      \n",
      "\n",
      "2023-08-17 09:53:55 (37.7 MB/s) - ‘3.PNG’ saved [229/229]\n",
      "\n",
      "--2023-08-17 09:53:55--  http://comp6248.ecs.soton.ac.uk/labs/lab5/4.PNG\n",
      "Resolving comp6248.ecs.soton.ac.uk (comp6248.ecs.soton.ac.uk)... 185.199.108.153, 185.199.109.153, 185.199.110.153, ...\n",
      "Connecting to comp6248.ecs.soton.ac.uk (comp6248.ecs.soton.ac.uk)|185.199.108.153|:80... connected.\n",
      "HTTP request sent, awaiting response... 200 OK\n",
      "Length: 175 [image/png]\n",
      "Saving to: ‘4.PNG’\n",
      "\n",
      "4.PNG               100%[===================>]     175  --.-KB/s    in 0s      \n",
      "\n",
      "2023-08-17 09:53:55 (24.8 MB/s) - ‘4.PNG’ saved [175/175]\n",
      "\n",
      "--2023-08-17 09:53:56--  http://comp6248.ecs.soton.ac.uk/labs/lab5/5.PNG\n",
      "Resolving comp6248.ecs.soton.ac.uk (comp6248.ecs.soton.ac.uk)... 185.199.108.153, 185.199.109.153, 185.199.110.153, ...\n",
      "Connecting to comp6248.ecs.soton.ac.uk (comp6248.ecs.soton.ac.uk)|185.199.108.153|:80... connected.\n",
      "HTTP request sent, awaiting response... 200 OK\n",
      "Length: 155 [image/png]\n",
      "Saving to: ‘5.PNG’\n",
      "\n",
      "5.PNG               100%[===================>]     155  --.-KB/s    in 0s      \n",
      "\n",
      "2023-08-17 09:53:56 (24.2 MB/s) - ‘5.PNG’ saved [155/155]\n",
      "\n",
      "--2023-08-17 09:53:56--  http://comp6248.ecs.soton.ac.uk/labs/lab5/6.PNG\n",
      "Resolving comp6248.ecs.soton.ac.uk (comp6248.ecs.soton.ac.uk)... 185.199.108.153, 185.199.109.153, 185.199.110.153, ...\n",
      "Connecting to comp6248.ecs.soton.ac.uk (comp6248.ecs.soton.ac.uk)|185.199.108.153|:80... connected.\n",
      "HTTP request sent, awaiting response... 200 OK\n",
      "Length: 274 [image/png]\n",
      "Saving to: ‘6.PNG’\n",
      "\n",
      "6.PNG               100%[===================>]     274  --.-KB/s    in 0s      \n",
      "\n",
      "2023-08-17 09:53:56 (44.1 MB/s) - ‘6.PNG’ saved [274/274]\n",
      "\n",
      "--2023-08-17 09:53:56--  http://comp6248.ecs.soton.ac.uk/labs/lab5/7.PNG\n",
      "Resolving comp6248.ecs.soton.ac.uk (comp6248.ecs.soton.ac.uk)... 185.199.108.153, 185.199.109.153, 185.199.110.153, ...\n",
      "Connecting to comp6248.ecs.soton.ac.uk (comp6248.ecs.soton.ac.uk)|185.199.108.153|:80... connected.\n",
      "HTTP request sent, awaiting response... 200 OK\n",
      "Length: 157 [image/png]\n",
      "Saving to: ‘7.PNG’\n",
      "\n",
      "7.PNG               100%[===================>]     157  --.-KB/s    in 0s      \n",
      "\n",
      "2023-08-17 09:53:56 (30.2 MB/s) - ‘7.PNG’ saved [157/157]\n",
      "\n",
      "--2023-08-17 09:53:56--  http://comp6248.ecs.soton.ac.uk/labs/lab5/8.PNG\n",
      "Resolving comp6248.ecs.soton.ac.uk (comp6248.ecs.soton.ac.uk)... 185.199.108.153, 185.199.109.153, 185.199.110.153, ...\n",
      "Connecting to comp6248.ecs.soton.ac.uk (comp6248.ecs.soton.ac.uk)|185.199.108.153|:80... connected.\n",
      "HTTP request sent, awaiting response... 200 OK\n",
      "Length: 246 [image/png]\n",
      "Saving to: ‘8.PNG’\n",
      "\n",
      "8.PNG               100%[===================>]     246  --.-KB/s    in 0s      \n",
      "\n",
      "2023-08-17 09:53:56 (43.5 MB/s) - ‘8.PNG’ saved [246/246]\n",
      "\n",
      "--2023-08-17 09:53:56--  http://comp6248.ecs.soton.ac.uk/labs/lab5/9.PNG\n",
      "Resolving comp6248.ecs.soton.ac.uk (comp6248.ecs.soton.ac.uk)... 185.199.108.153, 185.199.109.153, 185.199.110.153, ...\n",
      "Connecting to comp6248.ecs.soton.ac.uk (comp6248.ecs.soton.ac.uk)|185.199.108.153|:80... connected.\n",
      "HTTP request sent, awaiting response... 200 OK\n",
      "Length: 261 [image/png]\n",
      "Saving to: ‘9.PNG’\n",
      "\n",
      "9.PNG               100%[===================>]     261  --.-KB/s    in 0s      \n",
      "\n",
      "2023-08-17 09:53:57 (47.0 MB/s) - ‘9.PNG’ saved [261/261]\n",
      "\n"
     ]
    }
   ],
   "source": [
    "# Execute this code block to install dependencies when running on colab\n",
    "try:\n",
    "    import torch\n",
    "except:\n",
    "    from os.path import exists\n",
    "    from wheel.pep425tags import get_abbr_impl, get_impl_ver, get_abi_tag\n",
    "    platform = '{}{}-{}'.format(get_abbr_impl(), get_impl_ver(), get_abi_tag())\n",
    "    cuda_output = !ldconfig -p|grep cudart.so|sed -e 's/.*\\.\\([0-9]*\\)\\.\\([0-9]*\\)$/cu\\1\\2/'\n",
    "    accelerator = cuda_output[0] if exists('/dev/nvidia0') else 'cpu'\n",
    "\n",
    "    !pip install -q http://download.pytorch.org/whl/{accelerator}/torch-1.0.0-{platform}-linux_x86_64.whl torchvision\n",
    "\n",
    "try:\n",
    "    import torchbearer\n",
    "except:\n",
    "    !pip install torchbearer\n",
    "\n",
    "try:\n",
    "    from google.colab import files\n",
    "    uploaded = files.upload()\n",
    "except:\n",
    "    print(\"Not running on colab. Ignoring.\")\n",
    "\n",
    "!wget http://comp6248.ecs.soton.ac.uk/labs/lab5/0.PNG\n",
    "!wget http://comp6248.ecs.soton.ac.uk/labs/lab5/1.PNG\n",
    "!wget http://comp6248.ecs.soton.ac.uk/labs/lab5/2.PNG\n",
    "!wget http://comp6248.ecs.soton.ac.uk/labs/lab5/3.PNG\n",
    "!wget http://comp6248.ecs.soton.ac.uk/labs/lab5/4.PNG\n",
    "!wget http://comp6248.ecs.soton.ac.uk/labs/lab5/5.PNG\n",
    "!wget http://comp6248.ecs.soton.ac.uk/labs/lab5/6.PNG\n",
    "!wget http://comp6248.ecs.soton.ac.uk/labs/lab5/7.PNG\n",
    "!wget http://comp6248.ecs.soton.ac.uk/labs/lab5/8.PNG\n",
    "!wget http://comp6248.ecs.soton.ac.uk/labs/lab5/9.PNG"
   ]
  },
  {
   "cell_type": "markdown",
   "metadata": {
    "deletable": false,
    "editable": false,
    "nbgrader": {
     "checksum": "ce20db2649381e63c13307bcd496ab41",
     "grade": false,
     "grade_id": "cell-05dc06c4f046cee9",
     "locked": true,
     "schema_version": 1,
     "solution": false
    },
    "id": "tqkEi5M0pqwZ"
   },
   "source": [
    "## Reading models and propagating input\n",
    "\n",
    "At this point, we know how to train a model and how to save the resultant weights. Let's assume we're in the business of building a real system for handwritten character recognition; we need to be able to read in a previously trained model and forward propagate an image from outside the MNIST dataset through it in order to generate a prediction. Let's build some code to do just that. Firstly we need to load the model we saved in the previous part of the lab; PyTorch doesn't save the model structure by default, so you'll need to copy-paste the `BetterCNN` `forward` method implementation from the previous workbook into the block below:"
   ]
  },
  {
   "cell_type": "code",
   "execution_count": 3,
   "metadata": {
    "deletable": false,
    "nbgrader": {
     "checksum": "83517d0b5dd9912b14e753371891acda",
     "grade": false,
     "grade_id": "cell-25d7ce8447ab7c15",
     "locked": false,
     "schema_version": 1,
     "solution": true
    },
    "id": "h25Clr0lpqwZ",
    "executionInfo": {
     "status": "ok",
     "timestamp": 1692266050144,
     "user_tz": -120,
     "elapsed": 6996,
     "user": {
      "displayName": "Dawid Lipiński",
      "userId": "12029375043285498736"
     }
    },
    "colab": {
     "base_uri": "https://localhost:8080/"
    },
    "outputId": "dd724017-506d-4712-f706-b7d6984cf2e0"
   },
   "outputs": [
    {
     "output_type": "stream",
     "name": "stdout",
     "text": [
      "The autoreload extension is already loaded. To reload it, use:\n",
      "  %reload_ext autoreload\n"
     ]
    }
   ],
   "source": [
    "%matplotlib inline\n",
    "# automatically reload external modules if they change\n",
    "%load_ext autoreload\n",
    "%autoreload 2\n",
    "\n",
    "import torch\n",
    "import torch.nn.functional as F\n",
    "import matplotlib.pyplot as plt\n",
    "from torch import nn\n",
    "\n",
    "import torch\n",
    "import torch.nn.functional as F\n",
    "from torch import nn\n",
    "\n",
    "# Model Definition\n",
    "class BetterCNN(nn.Module):\n",
    "\n",
    "    def __init__(self):\n",
    "        super(BetterCNN, self).__init__()\n",
    "        self.conv1 = nn.Conv2d(1, 30, (5, 5), padding=0)\n",
    "        self.conv2 = nn.Conv2d(30, 15, (3, 3), padding=0)\n",
    "        self.fc1 = nn.Linear(15 * 5**2, 128)\n",
    "        self.fc2 = nn.Linear(128, 50)\n",
    "        self.fc3 = nn.Linear(50, 10)\n",
    "\n",
    "    def forward(self, x):\n",
    "        out = self.conv1(x)\n",
    "        out = F.relu(out)\n",
    "        out = F.max_pool2d(out, (2,2))\n",
    "        out = self.conv2(out)\n",
    "        out = F.relu(out)\n",
    "        out = F.max_pool2d(out, (2,2))\n",
    "        out = F.dropout(out, 0.2)\n",
    "        out = out.view(out.shape[0], -1)\n",
    "        out = self.fc1(out)\n",
    "        out = F.relu(out)\n",
    "        out = self.fc2(out)\n",
    "        out = F.relu(out)\n",
    "        out = self.fc3(out)\n",
    "        return out\n",
    "\n",
    "# build the model and load state\n",
    "model = BetterCNN()\n",
    "model.load_state_dict(torch.load('bettercnn.weights'))\n",
    "\n",
    "# put model in eval mode\n",
    "model = model.eval()"
   ]
  },
  {
   "cell_type": "markdown",
   "metadata": {
    "deletable": false,
    "editable": false,
    "nbgrader": {
     "checksum": "97971f78e75437a324758a0adf66779f",
     "grade": false,
     "grade_id": "cell-05d9eb94a8c5425c",
     "locked": true,
     "schema_version": 1,
     "solution": false
    },
    "id": "xVyexpnmpqwa"
   },
   "source": [
    "We've provided a set of images you can try. Let's load the one corresponding to a '1', convert it to a tensor, and display it:"
   ]
  },
  {
   "cell_type": "code",
   "execution_count": 4,
   "metadata": {
    "deletable": false,
    "editable": false,
    "nbgrader": {
     "checksum": "c711239daefae20c86dd0d9036bdfacd",
     "grade": false,
     "grade_id": "cell-4bd7da9513437358",
     "locked": true,
     "schema_version": 1,
     "solution": false
    },
    "id": "QbdaWhv7pqwa",
    "colab": {
     "base_uri": "https://localhost:8080/",
     "height": 447
    },
    "executionInfo": {
     "status": "ok",
     "timestamp": 1692266055368,
     "user_tz": -120,
     "elapsed": 2274,
     "user": {
      "displayName": "Dawid Lipiński",
      "userId": "12029375043285498736"
     }
    },
    "outputId": "78513a05-e526-46c9-c1d0-ea85ea7e766e"
   },
   "outputs": [
    {
     "output_type": "execute_result",
     "data": {
      "text/plain": [
       "<matplotlib.image.AxesImage at 0x7b772379fd00>"
      ]
     },
     "metadata": {},
     "execution_count": 4
    },
    {
     "output_type": "display_data",
     "data": {
      "text/plain": [
       "<Figure size 640x480 with 1 Axes>"
      ],
      "image/png": "[encoded data removed]"
     },
     "metadata": {}
    }
   ],
   "source": [
    "from PIL import Image\n",
    "import torchvision\n",
    "\n",
    "transform = torchvision.transforms.ToTensor()\n",
    "im = transform(Image.open(\"1.PNG\"))\n",
    "\n",
    "plt.imshow(im[0], cmap=plt.get_cmap('gray'))"
   ]
  },
  {
   "cell_type": "markdown",
   "metadata": {
    "deletable": false,
    "editable": false,
    "nbgrader": {
     "checksum": "56476fa5813e1c34650810d8eed151ef",
     "grade": false,
     "grade_id": "cell-6cf292098a212188",
     "locked": true,
     "schema_version": 1,
     "solution": false
    },
    "id": "dmwQSlMipqwa"
   },
   "source": [
    "Now we'll use the model to make a prediction. The model expects input to have a batch dimension, so we use `unsqueeze(0)` to prepend one to the image. Recall that the model outputs the logits of the classes; the index of the biggest one will tell us which class has been predicted."
   ]
  },
  {
   "cell_type": "code",
   "execution_count": 5,
   "metadata": {
    "deletable": false,
    "editable": false,
    "nbgrader": {
     "checksum": "ff7a048101ce27cbe780653cd8468eca",
     "grade": false,
     "grade_id": "cell-92042c8f7b09a26d",
     "locked": true,
     "schema_version": 1,
     "solution": false
    },
    "id": "cFpewxvVpqwa",
    "colab": {
     "base_uri": "https://localhost:8080/"
    },
    "executionInfo": {
     "status": "ok",
     "timestamp": 1692266058728,
     "user_tz": -120,
     "elapsed": 346,
     "user": {
      "displayName": "Dawid Lipiński",
      "userId": "12029375043285498736"
     }
    },
    "outputId": "a604a94a-d138-40a6-d06e-a0cdb0919ae6"
   },
   "outputs": [
    {
     "output_type": "stream",
     "name": "stdout",
     "text": [
      "logits: tensor([[-6.1010,  5.8669, -2.1080, -4.4095, -0.3160, -1.3021,  0.6989,  0.8148,\n",
      "          1.3098, -4.3690]])\n",
      "predicted class: 1\n"
     ]
    }
   ],
   "source": [
    "batch = im.unsqueeze(0)\n",
    "predictions = model(batch)\n",
    "\n",
    "print(\"logits:\", predictions.data)\n",
    "\n",
    "_, predicted_class = predictions.max(1)\n",
    "\n",
    "print(\"predicted class:\", predicted_class.item())"
   ]
  },
  {
   "cell_type": "markdown",
   "metadata": {
    "deletable": false,
    "editable": false,
    "nbgrader": {
     "checksum": "e83d2f7a42effd9370d399d819d592e3",
     "grade": false,
     "grade_id": "cell-dbe9d30ed68054cf",
     "locked": true,
     "schema_version": 1,
     "solution": false
    },
    "id": "WB6kwFOWpqwa"
   },
   "source": [
    "We've provided images `0.PNG` through to `9.PNG` for you to play with. Use the following code block to classify each image and print the results."
   ]
  },
  {
   "cell_type": "code",
   "execution_count": 25,
   "metadata": {
    "deletable": false,
    "nbgrader": {
     "checksum": "2c942b974467a9a456a2e9e4389b6f7c",
     "grade": false,
     "grade_id": "cell-27a634204f34e601",
     "locked": false,
     "schema_version": 1,
     "solution": true
    },
    "id": "XqSyMhSdpqwb",
    "colab": {
     "base_uri": "https://localhost:8080/",
     "height": 482
    },
    "executionInfo": {
     "status": "ok",
     "timestamp": 1692266464116,
     "user_tz": -120,
     "elapsed": 569,
     "user": {
      "displayName": "Dawid Lipiński",
      "userId": "12029375043285498736"
     }
    },
    "outputId": "d42596ec-d515-4fcd-af43-7fec538b3f90"
   },
   "outputs": [
    {
     "output_type": "stream",
     "name": "stdout",
     "text": [
      "logits: tensor([[-7.9419, -2.7052, -3.7739, -7.4139,  7.7640, -1.2446,  5.5290,  0.1192,\n",
      "          6.7015, -6.1950]])\n",
      "predicted class: 4\n"
     ]
    },
    {
     "output_type": "display_data",
     "data": {
      "text/plain": [
       "<Figure size 640x480 with 1 Axes>"
      ],
      "image/png": "[encoded data removed]"
     },
     "metadata": {}
    }
   ],
   "source": [
    "from PIL import Image\n",
    "import torchvision\n",
    "\n",
    "transform = torchvision.transforms.ToTensor()\n",
    "im = transform(Image.open(\"4.PNG\"))\n",
    "\n",
    "plt.imshow(im[0], cmap=plt.get_cmap('gray'))\n",
    "\n",
    "batch = im.unsqueeze(0)\n",
    "predictions = model(batch)\n",
    "\n",
    "print(\"logits:\", predictions.data)\n",
    "\n",
    "_, predicted_class = predictions.max(1)\n",
    "\n",
    "print(\"predicted class:\", predicted_class.item())"
   ]
  }
 ],
 "metadata": {
  "kernelspec": {
   "display_name": "Python 3",
   "name": "python3"
  },
  "language_info": {
   "codemirror_mode": {
    "name": "ipython",
    "version": 3
   },
   "file_extension": ".py",
   "mimetype": "text/x-python",
   "name": "python",
   "nbconvert_exporter": "python",
   "pygments_lexer": "ipython3",
   "version": "3.6.7"
  },
  "colab": {
   "provenance": [
    {
     "file_id": "https://github.com/ecs-vlc/COMP6248/blob/master/docs/labs/lab5/5_2_Loading.ipynb",
     "timestamp": 1692211268118
    }
   ],
   "gpuType": "T4"
  },
  "accelerator": "GPU"
 },
 "nbformat": 4,
 "nbformat_minor": 0
}
