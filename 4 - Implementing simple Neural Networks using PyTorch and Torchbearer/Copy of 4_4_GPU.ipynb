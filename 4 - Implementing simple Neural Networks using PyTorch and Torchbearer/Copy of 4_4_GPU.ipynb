{
 "cells": [
  {
   "cell_type": "markdown",
   "metadata": {
    "deletable": false,
    "editable": false,
    "nbgrader": {
     "checksum": "4972f311d33e889babafe6f6e44edc5f",
     "grade": false,
     "grade_id": "cell-8115527bd0e08e63",
     "locked": true,
     "schema_version": 1,
     "solution": false
    },
    "id": "C7UoyXspxtZv"
   },
   "source": [
    "# Part 4: Using GPU acceleration with PyTorch"
   ]
  },
  {
   "cell_type": "code",
   "execution_count": 1,
   "metadata": {
    "deletable": false,
    "editable": false,
    "nbgrader": {
     "checksum": "8ef6029eb23fe884594de09e1cd97769",
     "grade": false,
     "grade_id": "cell-2e8abb75fa5d4222",
     "locked": true,
     "schema_version": 1,
     "solution": false
    },
    "id": "y7ZCy0HxxtZx",
    "colab": {
     "base_uri": "https://localhost:8080/"
    },
    "executionInfo": {
     "status": "ok",
     "timestamp": 1692196877657,
     "user_tz": -120,
     "elapsed": 9760,
     "user": {
      "displayName": "Dawid Lipiński",
      "userId": "12029375043285498736"
     }
    },
    "outputId": "ef90590c-39d8-4d49-e130-9eb9981ad64b"
   },
   "outputs": [
    {
     "output_type": "stream",
     "name": "stdout",
     "text": [
      "Collecting torchbearer\n",
      "  Downloading torchbearer-0.5.3-py3-none-any.whl (138 kB)\n",
      "\u001B[?25l     \u001B[90m━━━━━━━━━━━━━━━━━━━━━━━━━━━━━━━━━━━━━━━━\u001B[0m \u001B[32m0.0/138.1 kB\u001B[0m \u001B[31m?\u001B[0m eta \u001B[36m-:--:--\u001B[0m\r\u001B[2K     \u001B[91m━━━━━━━━━━━━━━━━━━━━━━━━━━━━━━━━━━━━━\u001B[0m\u001B[91m╸\u001B[0m\u001B[90m━\u001B[0m \u001B[32m133.1/138.1 kB\u001B[0m \u001B[31m4.5 MB/s\u001B[0m eta \u001B[36m0:00:01\u001B[0m\r\u001B[2K     \u001B[90m━━━━━━━━━━━━━━━━━━━━━━━━━━━━━━━━━━━━━━━\u001B[0m \u001B[32m138.1/138.1 kB\u001B[0m \u001B[31m3.7 MB/s\u001B[0m eta \u001B[36m0:00:00\u001B[0m\n",
      "\u001B[?25hRequirement already satisfied: torch>=1.0.0 in /usr/local/lib/python3.10/dist-packages (from torchbearer) (2.0.1+cu118)\n",
      "Requirement already satisfied: numpy in /usr/local/lib/python3.10/dist-packages (from torchbearer) (1.23.5)\n",
      "Requirement already satisfied: tqdm in /usr/local/lib/python3.10/dist-packages (from torchbearer) (4.66.1)\n",
      "Requirement already satisfied: filelock in /usr/local/lib/python3.10/dist-packages (from torch>=1.0.0->torchbearer) (3.12.2)\n",
      "Requirement already satisfied: typing-extensions in /usr/local/lib/python3.10/dist-packages (from torch>=1.0.0->torchbearer) (4.7.1)\n",
      "Requirement already satisfied: sympy in /usr/local/lib/python3.10/dist-packages (from torch>=1.0.0->torchbearer) (1.12)\n",
      "Requirement already satisfied: networkx in /usr/local/lib/python3.10/dist-packages (from torch>=1.0.0->torchbearer) (3.1)\n",
      "Requirement already satisfied: jinja2 in /usr/local/lib/python3.10/dist-packages (from torch>=1.0.0->torchbearer) (3.1.2)\n",
      "Requirement already satisfied: triton==2.0.0 in /usr/local/lib/python3.10/dist-packages (from torch>=1.0.0->torchbearer) (2.0.0)\n",
      "Requirement already satisfied: cmake in /usr/local/lib/python3.10/dist-packages (from triton==2.0.0->torch>=1.0.0->torchbearer) (3.27.2)\n",
      "Requirement already satisfied: lit in /usr/local/lib/python3.10/dist-packages (from triton==2.0.0->torch>=1.0.0->torchbearer) (16.0.6)\n",
      "Requirement already satisfied: MarkupSafe>=2.0 in /usr/local/lib/python3.10/dist-packages (from jinja2->torch>=1.0.0->torchbearer) (2.1.3)\n",
      "Requirement already satisfied: mpmath>=0.19 in /usr/local/lib/python3.10/dist-packages (from sympy->torch>=1.0.0->torchbearer) (1.3.0)\n",
      "Installing collected packages: torchbearer\n",
      "Successfully installed torchbearer-0.5.3\n"
     ]
    }
   ],
   "source": [
    "# Execute this code block to install dependencies when running on colab\n",
    "try:\n",
    "    import torch\n",
    "except:\n",
    "    from os.path import exists\n",
    "    from wheel.pep425tags import get_abbr_impl, get_impl_ver, get_abi_tag\n",
    "    platform = '{}{}-{}'.format(get_abbr_impl(), get_impl_ver(), get_abi_tag())\n",
    "    cuda_output = !ldconfig -p|grep cudart.so|sed -e 's/.*\\.\\([0-9]*\\)\\.\\([0-9]*\\)$/cu\\1\\2/'\n",
    "    accelerator = cuda_output[0] if exists('/dev/nvidia0') else 'cpu'\n",
    "\n",
    "    !pip install -q http://download.pytorch.org/whl/{accelerator}/torch-1.0.0-{platform}-linux_x86_64.whl torchvision\n",
    "\n",
    "try:\n",
    "    import torchbearer\n",
    "except:\n",
    "    !pip install torchbearer"
   ]
  },
  {
   "cell_type": "markdown",
   "metadata": {
    "deletable": false,
    "editable": false,
    "nbgrader": {
     "checksum": "5ad3d98e7a666f0550c48db3d40c9fb6",
     "grade": false,
     "grade_id": "cell-56a116e085aef83c",
     "locked": true,
     "schema_version": 1,
     "solution": false
    },
    "id": "uIXY9IdmxtZy"
   },
   "source": [
    "## Manual use of `.cuda()`\n",
    "\n",
    "Now the magic of PyTorch comes in. So far, we've only been using the CPU to do computation. When we want to scale to a bigger problem, that won't be feasible for very long.\n",
    "|\n",
    "PyTorch makes it really easy to use the GPU for accelerating computation. Consider the following code that computes the element-wise product of two large matrices:"
   ]
  },
  {
   "cell_type": "code",
   "execution_count": 4,
   "metadata": {
    "id": "_8DTTme6xtZz",
    "colab": {
     "base_uri": "https://localhost:8080/"
    },
    "executionInfo": {
     "status": "ok",
     "timestamp": 1692196911963,
     "user_tz": -120,
     "elapsed": 564,
     "user": {
      "displayName": "Dawid Lipiński",
      "userId": "12029375043285498736"
     }
    },
    "outputId": "69f2ae2d-50cf-4c5a-a77c-8c0c8f4c56a6"
   },
   "outputs": [
    {
     "output_type": "stream",
     "name": "stdout",
     "text": [
      "tensor([[-0.3156,  0.0280,  0.0214,  ..., -0.5833, -0.5859,  1.0810],\n",
      "        [ 0.5394,  0.0042, -0.1461,  ...,  0.0832,  0.2621,  0.2351],\n",
      "        [-0.5285,  1.5096, -0.2568,  ...,  0.2057,  0.4414, -0.2022],\n",
      "        ...,\n",
      "        [ 0.0344, -0.1287,  0.0086,  ..., -0.5125, -1.7514,  2.2217],\n",
      "        [ 0.5815, -1.6087,  0.5825,  ...,  1.0619, -1.9444,  0.5200],\n",
      "        [-0.5233,  2.3536,  0.2135,  ...,  0.2228,  1.7458, -0.0094]])\n"
     ]
    }
   ],
   "source": [
    "import torch\n",
    "\n",
    "t1 = torch.randn(1000, 1000)\n",
    "t2 = torch.randn(1000, 1000)\n",
    "t3 = t1*t2\n",
    "print(t3)"
   ]
  },
  {
   "cell_type": "markdown",
   "metadata": {
    "deletable": false,
    "editable": false,
    "nbgrader": {
     "checksum": "6af792ab02ecca981f5c12685789f471",
     "grade": false,
     "grade_id": "cell-6849616c01cf9f25",
     "locked": true,
     "schema_version": 1,
     "solution": false
    },
    "id": "sZ5gt-ptxtZz"
   },
   "source": [
    "By sending all the tensors that we are using to the GPU, all the operations on them will also run on the GPU without having to change anything else. If you're running a non-cuda enabled version of PyTorch the following will throw an error; if you have cuda available the following will create the input matrices, copy them to the GPU and perform the multiplication on the GPU itself:"
   ]
  },
  {
   "cell_type": "code",
   "execution_count": 5,
   "metadata": {
    "id": "WjUi-IBdxtZz",
    "colab": {
     "base_uri": "https://localhost:8080/"
    },
    "executionInfo": {
     "status": "ok",
     "timestamp": 1692196915548,
     "user_tz": -120,
     "elapsed": 954,
     "user": {
      "displayName": "Dawid Lipiński",
      "userId": "12029375043285498736"
     }
    },
    "outputId": "a2637f76-eade-4a16-ebf4-fa7b54667a79"
   },
   "outputs": [
    {
     "output_type": "stream",
     "name": "stdout",
     "text": [
      "tensor([[-0.1878,  0.1184, -3.1167,  ...,  0.3020, -2.0150, -0.4981],\n",
      "        [ 0.1620,  0.3612,  0.9119,  ..., -0.2658, -1.7895,  2.9992],\n",
      "        [-0.8685,  0.9108,  1.3363,  ..., -0.2263, -1.4499,  0.6814],\n",
      "        ...,\n",
      "        [-1.0709,  0.1945,  0.1628,  ..., -2.7508,  0.4809,  0.2114],\n",
      "        [-0.1397, -0.7006, -0.0232,  ...,  0.4216,  0.0135,  1.6060],\n",
      "        [-0.7458,  0.3254,  0.2455,  ...,  1.5217, -0.3073,  0.4970]],\n",
      "       device='cuda:0')\n"
     ]
    }
   ],
   "source": [
    "t1 = torch.randn(1000, 1000).cuda()\n",
    "t2 = torch.randn(1000, 1000).cuda()\n",
    "t3 = t1*t2\n",
    "print(t3)"
   ]
  },
  {
   "cell_type": "markdown",
   "metadata": {
    "deletable": false,
    "editable": false,
    "nbgrader": {
     "checksum": "c771877e9beb32f8a49585373534dad1",
     "grade": false,
     "grade_id": "cell-2bca345a3c01999c",
     "locked": true,
     "schema_version": 1,
     "solution": false
    },
    "id": "1UWu2vZrxtZz"
   },
   "source": [
    "If you're running this workbook in colab, now enable GPU acceleration (`Runtime->Runtime Type` and add a `GPU` in the hardware accelerator pull-down). You'll then need to re-run all cells to this point.\n",
    "\n",
    "If you were able to run the above with hardware acceleration, the print-out of the result tensor would show that it was an instance of `cuda.FloatTensor` type on the the `(GPU 0)` GPU device. If your wanted to copy the tensor back to the CPU, you would use the `.cpu()` method."
   ]
  },
  {
   "cell_type": "markdown",
   "metadata": {
    "deletable": false,
    "editable": false,
    "nbgrader": {
     "checksum": "c064698f174abe4509b23c34a7912f44",
     "grade": false,
     "grade_id": "cell-e308141abb8d0e0c",
     "locked": true,
     "schema_version": 1,
     "solution": false
    },
    "id": "zRZdrHzrxtZz"
   },
   "source": [
    "## Writing platform agnostic code\n",
    "\n",
    "Most of the time you'd like to write code that is device agnostic; that is it will run on a GPU if one is available, and otherwise it would fall back to the CPU. The recommended way to do this is as follows:"
   ]
  },
  {
   "cell_type": "code",
   "execution_count": 6,
   "metadata": {
    "id": "1U2GLIjxxtZ0",
    "colab": {
     "base_uri": "https://localhost:8080/"
    },
    "executionInfo": {
     "status": "ok",
     "timestamp": 1692196940841,
     "user_tz": -120,
     "elapsed": 570,
     "user": {
      "displayName": "Dawid Lipiński",
      "userId": "12029375043285498736"
     }
    },
    "outputId": "11200b28-1c91-485c-e453-69193ad8bdc4"
   },
   "outputs": [
    {
     "output_type": "stream",
     "name": "stdout",
     "text": [
      "tensor([[-1.6681, -0.3570, -0.9255,  ...,  0.0506, -0.4491, -1.7188],\n",
      "        [-1.4889,  0.8528,  0.8919,  ...,  1.8131,  0.0937,  0.2719],\n",
      "        [ 1.3700, -0.3513, -0.0142,  ..., -0.3089, -0.1183,  0.1354],\n",
      "        ...,\n",
      "        [ 0.2589, -0.3988, -3.3979,  ...,  0.0692, -0.2008,  2.0483],\n",
      "        [-1.5438, -0.0753, -2.7590,  ..., -0.3005, -1.0377, -0.5898],\n",
      "        [ 0.0538,  0.9572,  0.4833,  ...,  0.0157, -0.4148,  0.1388]],\n",
      "       device='cuda:0')\n"
     ]
    }
   ],
   "source": [
    "device = \"cuda:0\" if torch.cuda.is_available() else \"cpu\"\n",
    "t1 = torch.randn(1000, 1000).to(device)\n",
    "t2 = torch.randn(1000, 1000).to(device)\n",
    "t3 = t1*t2\n",
    "print(t3)"
   ]
  },
  {
   "cell_type": "markdown",
   "metadata": {
    "deletable": false,
    "editable": false,
    "nbgrader": {
     "checksum": "b31bddc27c2bdeb593ee2498dfbd7e10",
     "grade": false,
     "grade_id": "cell-24f03f8a35648313",
     "locked": true,
     "schema_version": 1,
     "solution": false
    },
    "id": "SJlymmtNxtZ0"
   },
   "source": [
    "## Accelerating neural net training\n",
    "\n",
    "If you wanted to accelerate the training of a neural net using raw PyTorch, you would have to copy both the model and the training data to the GPU. Unless you were using a really small dataset like MNIST, you would typically _stream_ the batches of training data to the GPU as you used them in the training loop:\n",
    "\n",
    "```python\n",
    "device = \"cuda:0\" if torch.cuda.is_available() else \"cpu\"\n",
    "model = BaselineModel(784, 784, 10).to(device)\n",
    "\n",
    "loss_function = ...\n",
    "optimiser = ...\n",
    "\n",
    "for epoch in range(10):\n",
    "    for data in trainloader:\n",
    "        inputs, labels = data\n",
    "        inputs, labels = inputs.to(device), labels.to(device)\n",
    "\n",
    "        optimiser.zero_grad()\n",
    "        outputs = model(inputs)\n",
    "        loss = loss_function(outputs, labels)\n",
    "        loss.backward()\n",
    "        optimiser.step()\n",
    "```\n",
    "\n",
    "Using Torchbearer, this becomes much simpler - you just tell the `Trial` to run on the GPU and that's it!:\n",
    "\n",
    "```python\n",
    "model = BetterCNN()\n",
    "\n",
    "loss_function = ...\n",
    "optimiser = ...\n",
    "\n",
    "device = \"cuda:0\" if torch.cuda.is_available() else \"cpu\"\n",
    "trial = Trial(model, optimiser, loss_function, metrics=['loss', 'accuracy']).to(device)\n",
    "trial.with_generators(trainloader)\n",
    "trial.run(epochs=10)\n",
    "```\n"
   ]
  },
  {
   "cell_type": "markdown",
   "metadata": {
    "deletable": false,
    "editable": false,
    "nbgrader": {
     "checksum": "064768c85834aa40d82396f9f3cccfac",
     "grade": false,
     "grade_id": "cell-cf0444554770e817",
     "locked": true,
     "schema_version": 1,
     "solution": false
    },
    "id": "geNDxnQpxtZ0"
   },
   "source": [
    "## Multiple GPUs\n",
    "\n",
    "Using multiple GPUs is beyond the scope of the lab, but if you have multiple cuda devices, they can be referred to by index: `cuda:0`, `cuda:1`, `cuda:2`, etc. You have to be careful not to mix operations on different devices, and would need how to carefully orchestrate moving of data between the devices (which can really slow down your code to the point at which using the CPU would actually be faster)."
   ]
  }
 ],
 "metadata": {
  "kernelspec": {
   "display_name": "Python 3",
   "name": "python3"
  },
  "language_info": {
   "codemirror_mode": {
    "name": "ipython",
    "version": 3
   },
   "file_extension": ".py",
   "mimetype": "text/x-python",
   "name": "python",
   "nbconvert_exporter": "python",
   "pygments_lexer": "ipython3",
   "version": "3.6.7"
  },
  "colab": {
   "provenance": [
    {
     "file_id": "https://github.com/ecs-vlc/COMP6248/blob/master/docs/labs/lab4/4_4_GPU.ipynb",
     "timestamp": 1692196594010
    }
   ],
   "gpuType": "T4"
  },
  "accelerator": "GPU"
 },
 "nbformat": 4,
 "nbformat_minor": 0
}
